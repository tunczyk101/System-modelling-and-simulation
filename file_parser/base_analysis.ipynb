{
 "cells": [
  {
   "cell_type": "markdown",
   "source": [
    "# Basic analysis of *\"GIS data\"*\n",
    "\n",
    "Place data in `file_parser/data` directory.\n",
    "\n",
    "What is needed for a model:\n",
    "* Junctions\n",
    "    * **Elevation** - The elevation in feet (meters) above some common reference of the junction. This is a **required** property. Elevation is used only to compute pressure at the junction. It does not affect any other computed quantity.\n",
    "    // * **Base Demand** -The average or nominal demand for water by the main category of consumer at the junction, as measured in the current flow units. A negative value is used to indicate an external source of flow into the junction. If left blank then demand is assumed to be zero.\n",
    "* Pipes\n",
    "    *  **Length** - The actual length of the pipe in feet (meters). This is a **required** property.\n",
    "    * **Diam** - The pipe diameter in inches (mm). This is a **required** property.\n",
    "    * **Roughness** - The roughness coefficient of the pipe. It is unitless for Hazen-Williams or Chezy-Manning roughness and has units of millifeet (mm) for Darcy-Weisbach roughness. This is a **required** property.\n"
   ],
   "metadata": {
    "collapsed": false
   }
  },
  {
   "cell_type": "code",
   "execution_count": 1,
   "metadata": {
    "collapsed": true
   },
   "outputs": [],
   "source": [
    "import pandas as pd\n",
    "import geopandas as gpd"
   ]
  },
  {
   "cell_type": "markdown",
   "source": [
    "# attributestablebrowsercontroller (1)"
   ],
   "metadata": {
    "collapsed": false
   }
  },
  {
   "cell_type": "code",
   "execution_count": 7,
   "outputs": [
    {
     "name": "stderr",
     "output_type": "stream",
     "text": [
      "C:\\Users\\jolka\\OneDrive\\Pulpit\\studia\\sem_8\\MISS\\System-modelling-and-simulation\\venv\\lib\\site-packages\\openpyxl\\styles\\stylesheet.py:226: UserWarning: Workbook contains no default style, apply openpyxl's default\n",
      "  warn(\"Workbook contains no default style, apply openpyxl's default\")\n"
     ]
    }
   ],
   "source": [
    "controller = pd.read_excel(\n",
    "    \"./data/attributestablebrowsercontroller_1.xlsx\", index_col=0\n",
    ")"
   ],
   "metadata": {
    "collapsed": false
   }
  },
  {
   "cell_type": "code",
   "execution_count": null,
   "outputs": [],
   "source": [
    "controller.head()"
   ],
   "metadata": {
    "collapsed": false,
    "pycharm": {
     "is_executing": true
    }
   }
  },
  {
   "cell_type": "code",
   "execution_count": 9,
   "outputs": [
    {
     "name": "stdout",
     "output_type": "stream",
     "text": [
      "<class 'pandas.core.frame.DataFrame'>\n",
      "Index: 1033 entries, 68085 to 95556\n",
      "Data columns (total 35 columns):\n",
      " #   Column                   Non-Null Count  Dtype         \n",
      "---  ------                   --------------  -----         \n",
      " 0   Stan eksploatacji        1033 non-null   object        \n",
      " 1   Funkcja                  1030 non-null   object        \n",
      " 2   Średnica nominalna [mm]  771 non-null    float64       \n",
      " 3   Materiał                 41 non-null     object        \n",
      " 4   Rok budowy               0 non-null      float64       \n",
      " 5   Rzędna początku          0 non-null      float64       \n",
      " 6   Rzędna końca             0 non-null      float64       \n",
      " 7   Miasto                   602 non-null    object        \n",
      " 8   Ulica                    602 non-null    object        \n",
      " 9   Numer domu               204 non-null    object        \n",
      " 10  Przebieg orientacyjny    0 non-null      float64       \n",
      " 11  Długość pomierzona [m]   0 non-null      float64       \n",
      " 12  Własność                 1033 non-null   object        \n",
      " 13  Źródło danych            1033 non-null   object        \n",
      " 14  Uwagi                    41 non-null     object        \n",
      " 15  Inspektor                0 non-null      float64       \n",
      " 16  Kierownik budowy         0 non-null      float64       \n",
      " 17  Inwestor                 0 non-null      float64       \n",
      " 18  Wykonawca                0 non-null      float64       \n",
      " 19  Numer uzg. proj.         0 non-null      float64       \n",
      " 20  Data uzg. proj.          0 non-null      float64       \n",
      " 21  Długość geometrii        1033 non-null   float64       \n",
      " 22  Miasto (rozwinięte)      602 non-null    object        \n",
      " 23  Ulica (rozwinięte)       602 non-null    object        \n",
      " 24  Numer domu (rozwinięte)  204 non-null    object        \n",
      " 25  Gmina                    1033 non-null   object        \n",
      " 26  Opis lokalizacji         1033 non-null   object        \n",
      " 27  Nr środka trwałego       0 non-null      float64       \n",
      " 28  Nr działki               1018 non-null   object        \n",
      " 29  Użytkownik modyfikujący  706 non-null    object        \n",
      " 30  Data modyfikacji         706 non-null    datetime64[ns]\n",
      " 31  Użytkownik tworzący      1033 non-null   object        \n",
      " 32  Data utworzenia          1033 non-null   datetime64[ns]\n",
      " 33  numer                    0 non-null      float64       \n",
      " 34  automat                  1033 non-null   bool          \n",
      "dtypes: bool(1), datetime64[ns](2), float64(15), object(17)\n",
      "memory usage: 283.5+ KB\n"
     ]
    }
   ],
   "source": [
    "controller.info()"
   ],
   "metadata": {
    "collapsed": false
   }
  },
  {
   "cell_type": "markdown",
   "source": [
    "Drop not important columns"
   ],
   "metadata": {
    "collapsed": false
   }
  },
  {
   "cell_type": "code",
   "execution_count": 20,
   "outputs": [],
   "source": [
    "columns_to_drop = [\n",
    "    \"Rok budowy\",\n",
    "    \"Rzędna początku\",\n",
    "    \"Rzędna końca\",\n",
    "    \"Miasto\",\n",
    "    \"Ulica\",\n",
    "    \"Przebieg orientacyjny\",\n",
    "    \"Długość pomierzona [m]\",\n",
    "    \"Własność\",\n",
    "    \"Źródło danych\",\n",
    "    \"Inspektor\",\n",
    "    \"Kierownik budowy\",\n",
    "    \"Inwestor\",\n",
    "    \"Wykonawca\",\n",
    "    \"Numer uzg. proj.\",\n",
    "    \"Data uzg. proj.\",\n",
    "    \"Miasto (rozwinięte)\",\n",
    "    \"Numer domu (rozwinięte)\",\n",
    "    \"Gmina\",\n",
    "    \"Nr środka trwałego\",\n",
    "    \"Użytkownik modyfikujący\",\n",
    "    \"Użytkownik tworzący\",\n",
    "    \"Data utworzenia\",\n",
    "    \"numer\",\n",
    "    \"automat\",\n",
    "]\n",
    "\n",
    "controller = controller.drop(columns=columns_to_drop)"
   ],
   "metadata": {
    "collapsed": false
   }
  },
  {
   "cell_type": "code",
   "execution_count": 22,
   "outputs": [
    {
     "name": "stdout",
     "output_type": "stream",
     "text": [
      "<class 'pandas.core.frame.DataFrame'>\n",
      "Index: 1014 entries, 68085 to 95556\n",
      "Data columns (total 11 columns):\n",
      " #   Column                   Non-Null Count  Dtype         \n",
      "---  ------                   --------------  -----         \n",
      " 0   Stan eksploatacji        1014 non-null   object        \n",
      " 1   Funkcja                  1014 non-null   object        \n",
      " 2   Średnica nominalna [mm]  763 non-null    float64       \n",
      " 3   Materiał                 41 non-null     object        \n",
      " 4   Numer domu               203 non-null    object        \n",
      " 5   Uwagi                    41 non-null     object        \n",
      " 6   Długość geometrii        1014 non-null   float64       \n",
      " 7   Ulica (rozwinięte)       596 non-null    object        \n",
      " 8   Opis lokalizacji         1014 non-null   object        \n",
      " 9   Nr działki               999 non-null    object        \n",
      " 10  Data modyfikacji         692 non-null    datetime64[ns]\n",
      "dtypes: datetime64[ns](1), float64(2), object(8)\n",
      "memory usage: 95.1+ KB\n"
     ]
    }
   ],
   "source": [
    "controller.info()"
   ],
   "metadata": {
    "collapsed": false
   }
  },
  {
   "cell_type": "code",
   "execution_count": null,
   "outputs": [],
   "source": [
    "controller.head()"
   ],
   "metadata": {
    "collapsed": false,
    "pycharm": {
     "is_executing": true
    }
   }
  },
  {
   "cell_type": "code",
   "execution_count": 11,
   "outputs": [
    {
     "data": {
      "text/plain": "Stan eksploatacji\nCzynny          1014\nNieczynny         10\nProjektowany       9\nName: count, dtype: int64"
     },
     "execution_count": 11,
     "metadata": {},
     "output_type": "execute_result"
    }
   ],
   "source": [
    "controller[\"Stan eksploatacji\"].value_counts()"
   ],
   "metadata": {
    "collapsed": false
   }
  },
  {
   "cell_type": "code",
   "execution_count": 12,
   "outputs": [],
   "source": [
    "controller = controller[controller[\"Stan eksploatacji\"] == \"Czynny\"]"
   ],
   "metadata": {
    "collapsed": false
   }
  },
  {
   "cell_type": "code",
   "execution_count": 13,
   "outputs": [
    {
     "data": {
      "text/plain": "Stan eksploatacji\nCzynny    1014\nName: count, dtype: int64"
     },
     "execution_count": 13,
     "metadata": {},
     "output_type": "execute_result"
    }
   ],
   "source": [
    "controller[\"Stan eksploatacji\"].value_counts()"
   ],
   "metadata": {
    "collapsed": false
   }
  },
  {
   "cell_type": "code",
   "execution_count": 24,
   "outputs": [
    {
     "data": {
      "text/plain": "Funkcja\nPrzyłącze               494\nRozdzielczy             281\nInny                    165\nPrzyłącze hydrantowe     71\nMagistralny               3\nName: count, dtype: int64"
     },
     "execution_count": 24,
     "metadata": {},
     "output_type": "execute_result"
    }
   ],
   "source": [
    "controller[\"Funkcja\"].value_counts()"
   ],
   "metadata": {
    "collapsed": false
   }
  },
  {
   "cell_type": "code",
   "execution_count": 25,
   "outputs": [
    {
     "data": {
      "text/plain": "Średnica nominalna [mm]\n32.0     241\n40.0     207\n100.0     65\n90.0      64\n110.0     59\n80.0      35\n50.0      27\n63.0      19\n150.0     17\n25.0      13\n160.0     11\n20.0       4\n75.0       1\nName: count, dtype: int64"
     },
     "execution_count": 25,
     "metadata": {},
     "output_type": "execute_result"
    }
   ],
   "source": [
    "controller[\"Średnica nominalna [mm]\"].value_counts()  # Diam"
   ],
   "metadata": {
    "collapsed": false
   }
  },
  {
   "cell_type": "code",
   "execution_count": 26,
   "outputs": [
    {
     "data": {
      "text/plain": "Materiał\nPVC            19\nBrak danych    13\nPE              9\nName: count, dtype: int64"
     },
     "execution_count": 26,
     "metadata": {},
     "output_type": "execute_result"
    }
   ],
   "source": [
    "controller[\"Materiał\"].value_counts()"
   ],
   "metadata": {
    "collapsed": false
   }
  },
  {
   "cell_type": "code",
   "execution_count": 27,
   "outputs": [
    {
     "data": {
      "text/plain": "Uwagi\nPCV                                                        19\nPE                                                          9\nzmiana średnicy na podstawie map branżowych z 90 na 110     7\nzmiana średnicy na podstawie map branżowych z 110 na 90     2\nbrak                                                        1\ndata pomiaru: 28.02.1997                                    1\n347/03                                                      1\n209/08                                                      1\nName: count, dtype: int64"
     },
     "execution_count": 27,
     "metadata": {},
     "output_type": "execute_result"
    }
   ],
   "source": [
    "controller[\"Uwagi\"].value_counts()  # duplicates"
   ],
   "metadata": {
    "collapsed": false
   }
  },
  {
   "cell_type": "code",
   "execution_count": 28,
   "outputs": [
    {
     "data": {
      "text/plain": "Długość geometrii\n7.67      3\n5.88      3\n2.17      3\n11.16     3\n0.36      3\n         ..\n0.88      1\n129.18    1\n137.76    1\n114.38    1\n42.89     1\nName: count, Length: 943, dtype: int64"
     },
     "execution_count": 28,
     "metadata": {},
     "output_type": "execute_result"
    }
   ],
   "source": [
    "controller[\"Długość geometrii\"].value_counts()  # what is this?"
   ],
   "metadata": {
    "collapsed": false
   }
  },
  {
   "cell_type": "code",
   "execution_count": 29,
   "outputs": [
    {
     "data": {
      "text/plain": "Opis lokalizacji\npodziemny    1014\nName: count, dtype: int64"
     },
     "execution_count": 29,
     "metadata": {},
     "output_type": "execute_result"
    }
   ],
   "source": [
    "controller[\"Opis lokalizacji\"].value_counts()  # ..."
   ],
   "metadata": {
    "collapsed": false
   }
  },
  {
   "cell_type": "markdown",
   "source": [
    "# attributestablebrowsercontroller"
   ],
   "metadata": {
    "collapsed": false
   }
  },
  {
   "cell_type": "code",
   "execution_count": 33,
   "outputs": [
    {
     "name": "stderr",
     "output_type": "stream",
     "text": [
      "C:\\Users\\jolka\\OneDrive\\Pulpit\\studia\\sem_8\\MISS\\System-modelling-and-simulation\\venv\\lib\\site-packages\\openpyxl\\styles\\stylesheet.py:226: UserWarning: Workbook contains no default style, apply openpyxl's default\n",
      "  warn(\"Workbook contains no default style, apply openpyxl's default\")\n"
     ]
    }
   ],
   "source": [
    "controller = pd.read_excel(\"./data/attributestablebrowsercontroller.xlsx\")"
   ],
   "metadata": {
    "collapsed": false
   }
  },
  {
   "cell_type": "code",
   "execution_count": 34,
   "outputs": [
    {
     "name": "stdout",
     "output_type": "stream",
     "text": [
      "<class 'pandas.core.frame.DataFrame'>\n",
      "RangeIndex: 797 entries, 0 to 796\n",
      "Data columns (total 28 columns):\n",
      " #   Column                Non-Null Count  Dtype         \n",
      "---  ------                --------------  -----         \n",
      " 0   address_point_id      797 non-null    object        \n",
      " 1   id_address_point_map  797 non-null    int64         \n",
      " 2   id_msc_zamontu        797 non-null    int64         \n",
      " 3   wodomierz             797 non-null    bool          \n",
      " 4   id_punktu             797 non-null    int64         \n",
      " 5   id_zamontu            797 non-null    int64         \n",
      " 6   id_wodomierza         797 non-null    int64         \n",
      " 7   adres                 797 non-null    object        \n",
      " 8   Średnica              786 non-null    float64       \n",
      " 9   Producent             786 non-null    object        \n",
      " 10  Nr fabryczny          797 non-null    object        \n",
      " 11  Główny                143 non-null    float64       \n",
      " 12  srednia_dobowa        712 non-null    float64       \n",
      " 13  Data zamontu          797 non-null    datetime64[ns]\n",
      " 14  Data wymontu          363 non-null    datetime64[ns]\n",
      " 15  Data legalizacji      617 non-null    datetime64[ns]\n",
      " 16  odbiorca              797 non-null    object        \n",
      " 17  id_odbiorcy           797 non-null    int64         \n",
      " 18  tel                   555 non-null    object        \n",
      " 19  Numer umowy           787 non-null    object        \n",
      " 20  Data zawarcia         797 non-null    datetime64[ns]\n",
      " 21  Data wygaśnięcia      797 non-null    object        \n",
      " 22  Typ umowy             260 non-null    object        \n",
      " 23  Id wew.               797 non-null    int64         \n",
      " 24  nr_odbiorcy           797 non-null    int64         \n",
      " 25  email                 241 non-null    object        \n",
      " 26  nr_dzialki            781 non-null    object        \n",
      " 27  aktywny               797 non-null    bool          \n",
      "dtypes: bool(2), datetime64[ns](4), float64(3), int64(8), object(11)\n",
      "memory usage: 163.6+ KB\n"
     ]
    }
   ],
   "source": [
    "controller.info()"
   ],
   "metadata": {
    "collapsed": false
   }
  },
  {
   "cell_type": "code",
   "execution_count": null,
   "outputs": [],
   "source": [
    "controller.head()"
   ],
   "metadata": {
    "collapsed": false,
    "pycharm": {
     "is_executing": true
    }
   }
  },
  {
   "cell_type": "code",
   "execution_count": 36,
   "outputs": [
    {
     "data": {
      "text/plain": "wodomierz\nTrue    797\nName: count, dtype: int64"
     },
     "execution_count": 36,
     "metadata": {},
     "output_type": "execute_result"
    }
   ],
   "source": [
    "controller[\"wodomierz\"].value_counts()"
   ],
   "metadata": {
    "collapsed": false
   }
  },
  {
   "cell_type": "markdown",
   "source": [
    "Dane do kalibracji.\n",
    "Problem: brak adresu w przypadku popszedniej tabeli. Możliwy analogiczny problem w przypadku innych plików."
   ],
   "metadata": {
    "collapsed": false
   }
  },
  {
   "cell_type": "markdown",
   "source": [
    "## gis_data_billing_view_1"
   ],
   "metadata": {
    "collapsed": false
   }
  },
  {
   "cell_type": "code",
   "execution_count": 41,
   "outputs": [],
   "source": [
    "gis = gpd.read_file(\n",
    "    \"./data/gis_data_billing_view_1/gis_data.billing_view.gml\", index_col=0\n",
    ")"
   ],
   "metadata": {
    "collapsed": false
   }
  },
  {
   "cell_type": "code",
   "execution_count": 42,
   "outputs": [
    {
     "name": "stdout",
     "output_type": "stream",
     "text": [
      "<class 'geopandas.geodataframe.GeoDataFrame'>\n",
      "RangeIndex: 797 entries, 0 to 796\n",
      "Data columns (total 31 columns):\n",
      " #   Column                Non-Null Count  Dtype   \n",
      "---  ------                --------------  -----   \n",
      " 0   fid                   797 non-null    object  \n",
      " 1   address_point_id      797 non-null    int64   \n",
      " 2   id_address_point_map  797 non-null    int64   \n",
      " 3   id_msc_zamontu        797 non-null    int64   \n",
      " 4   wodomierz             797 non-null    bool    \n",
      " 5   cieplomierz           797 non-null    bool    \n",
      " 6   id_punktu             797 non-null    int64   \n",
      " 7   id_zamontu            797 non-null    int64   \n",
      " 8   id_wodomierza         797 non-null    int64   \n",
      " 9   adres                 797 non-null    object  \n",
      " 10  srednica              786 non-null    float64 \n",
      " 11  producent             786 non-null    object  \n",
      " 12  nr_fabryczny          797 non-null    object  \n",
      " 13  srednia_dobowa        712 non-null    float64 \n",
      " 14  data_zamontu          797 non-null    object  \n",
      " 15  data_legalizacji      617 non-null    object  \n",
      " 16  odbiorca              797 non-null    object  \n",
      " 17  id_odbiorcy           797 non-null    int64   \n",
      " 18  tel                   555 non-null    object  \n",
      " 19  numer_umowy           787 non-null    object  \n",
      " 20  data_zawarcia         797 non-null    object  \n",
      " 21  data_wygasniecia      797 non-null    object  \n",
      " 22  gid                   797 non-null    int64   \n",
      " 23  nr_odbiorcy           797 non-null    int64   \n",
      " 24  nr_dzialki            781 non-null    object  \n",
      " 25  aktywny               797 non-null    bool    \n",
      " 26  data_wymontu          363 non-null    object  \n",
      " 27  email                 241 non-null    object  \n",
      " 28  glowny                143 non-null    object  \n",
      " 29  typ_umowy             260 non-null    object  \n",
      " 30  geometry              797 non-null    geometry\n",
      "dtypes: bool(3), float64(2), geometry(1), int64(9), object(16)\n",
      "memory usage: 176.8+ KB\n"
     ]
    }
   ],
   "source": [
    "gis.info()"
   ],
   "metadata": {
    "collapsed": false
   }
  },
  {
   "cell_type": "code",
   "execution_count": null,
   "outputs": [],
   "source": [
    "gis.head()"
   ],
   "metadata": {
    "collapsed": false,
    "pycharm": {
     "is_executing": true
    }
   }
  },
  {
   "cell_type": "code",
   "execution_count": 45,
   "outputs": [
    {
     "data": {
      "text/plain": "<Axes: >"
     },
     "execution_count": 45,
     "metadata": {},
     "output_type": "execute_result"
    },
    {
     "data": {
      "text/plain": "<Figure size 640x480 with 1 Axes>",
      "image/png": "[encoded data removed]"
     },
     "metadata": {},
     "output_type": "display_data"
    }
   ],
   "source": [
    "gis.plot()"
   ],
   "metadata": {
    "collapsed": false
   }
  },
  {
   "cell_type": "code",
   "execution_count": 46,
   "outputs": [
    {
     "data": {
      "text/plain": "wodomierz\nTrue    797\nName: count, dtype: int64"
     },
     "execution_count": 46,
     "metadata": {},
     "output_type": "execute_result"
    }
   ],
   "source": [
    "gis[\"wodomierz\"].value_counts()"
   ],
   "metadata": {
    "collapsed": false
   }
  },
  {
   "cell_type": "markdown",
   "source": [
    "Same data as before"
   ],
   "metadata": {
    "collapsed": false
   }
  },
  {
   "cell_type": "markdown",
   "source": [
    "## gis_data_billing_view_2"
   ],
   "metadata": {
    "collapsed": false
   }
  },
  {
   "cell_type": "code",
   "execution_count": 47,
   "outputs": [],
   "source": [
    "gis = gpd.read_file(\n",
    "    \"./data/gis_data_billing_view_2/gis_data.billing_view.shp\", index_col=0\n",
    ")"
   ],
   "metadata": {
    "collapsed": false
   }
  },
  {
   "cell_type": "code",
   "execution_count": 48,
   "outputs": [
    {
     "name": "stdout",
     "output_type": "stream",
     "text": [
      "<class 'geopandas.geodataframe.GeoDataFrame'>\n",
      "RangeIndex: 797 entries, 0 to 796\n",
      "Data columns (total 36 columns):\n",
      " #   Column      Non-Null Count  Dtype   \n",
      "---  ------      --------------  -----   \n",
      " 0   address_po  797 non-null    int64   \n",
      " 1   id_address  797 non-null    int64   \n",
      " 2   id_msc_zam  797 non-null    int64   \n",
      " 3   wodomierz   797 non-null    object  \n",
      " 4   cieplomier  797 non-null    object  \n",
      " 5   id_punktu   797 non-null    int64   \n",
      " 6   id_zamontu  797 non-null    int64   \n",
      " 7   id_wodomie  797 non-null    int64   \n",
      " 8   adres       797 non-null    object  \n",
      " 9   srednica    786 non-null    float64 \n",
      " 10  producent   786 non-null    object  \n",
      " 11  nr_fabrycz  797 non-null    object  \n",
      " 12  symbol      0 non-null      object  \n",
      " 13  glowny      797 non-null    object  \n",
      " 14  srednia_do  712 non-null    float64 \n",
      " 15  data_zamon  797 non-null    object  \n",
      " 16  data_wymon  363 non-null    object  \n",
      " 17  rodzaj_mon  0 non-null      object  \n",
      " 18  miejsce_in  0 non-null      object  \n",
      " 19  data_legal  617 non-null    object  \n",
      " 20  nr_nakladk  0 non-null      object  \n",
      " 21  typ_naklad  0 non-null      object  \n",
      " 22  odbiorca    797 non-null    object  \n",
      " 23  id_odbiorc  797 non-null    int64   \n",
      " 24  tel         555 non-null    object  \n",
      " 25  uwagi       0 non-null      object  \n",
      " 26  numer_umow  787 non-null    object  \n",
      " 27  data_zawar  797 non-null    object  \n",
      " 28  data_wygas  797 non-null    object  \n",
      " 29  typ_umowy   260 non-null    object  \n",
      " 30  typ         0 non-null      object  \n",
      " 31  nr_odbiorc  797 non-null    object  \n",
      " 32  email       241 non-null    object  \n",
      " 33  nr_dzialki  781 non-null    object  \n",
      " 34  aktywny     797 non-null    object  \n",
      " 35  geometry    797 non-null    geometry\n",
      "dtypes: float64(2), geometry(1), int64(7), object(26)\n",
      "memory usage: 224.3+ KB\n"
     ]
    }
   ],
   "source": [
    "gis.info()"
   ],
   "metadata": {
    "collapsed": false
   }
  },
  {
   "cell_type": "code",
   "execution_count": 49,
   "outputs": [
    {
     "data": {
      "text/plain": "<Axes: >"
     },
     "execution_count": 49,
     "metadata": {},
     "output_type": "execute_result"
    },
    {
     "data": {
      "text/plain": "<Figure size 640x480 with 1 Axes>",
      "image/png": "[encoded data removed]"
     },
     "metadata": {},
     "output_type": "display_data"
    }
   ],
   "source": [
    "gis.plot()"
   ],
   "metadata": {
    "collapsed": false
   }
  },
  {
   "cell_type": "markdown",
   "source": [
    "JW\n",
    "\n",
    "## gis_data_billing_view_3"
   ],
   "metadata": {
    "collapsed": false
   }
  },
  {
   "cell_type": "code",
   "execution_count": 51,
   "outputs": [],
   "source": [
    "gis = gpd.read_file(\n",
    "    \"./data/gis_data_billing_view_3/gis_data.sw_przewod.shp\", index_col=0\n",
    ")"
   ],
   "metadata": {
    "collapsed": false
   }
  },
  {
   "cell_type": "code",
   "execution_count": 52,
   "outputs": [
    {
     "name": "stdout",
     "output_type": "stream",
     "text": [
      "<class 'geopandas.geodataframe.GeoDataFrame'>\n",
      "RangeIndex: 1033 entries, 0 to 1032\n",
      "Data columns (total 59 columns):\n",
      " #   Column      Non-Null Count  Dtype   \n",
      "---  ------      --------------  -----   \n",
      " 0   kg_stan_ek  1033 non-null   object  \n",
      " 1   kg_model    1033 non-null   object  \n",
      " 2   kg_strefa   1033 non-null   object  \n",
      " 3   kg_funkcja  1030 non-null   object  \n",
      " 4   kg_srednic  771 non-null    float64 \n",
      " 5   kg_sredni0  0 non-null      object  \n",
      " 6   kg_sredni1  0 non-null      object  \n",
      " 7   kg_sredni2  1033 non-null   object  \n",
      " 8   kg_materia  41 non-null     object  \n",
      " 9   kg_materi0  1033 non-null   object  \n",
      " 10  kg_rok_bud  0 non-null      object  \n",
      " 11  kg_rok_bu0  1033 non-null   object  \n",
      " 12  kg_chropow  0 non-null      object  \n",
      " 13  kg_wsp_str  0 non-null      object  \n",
      " 14  kg_wsp_rea  0 non-null      object  \n",
      " 15  kg_wsp_re0  0 non-null      object  \n",
      " 16  kg_rzedna_  0 non-null      object  \n",
      " 17  kg_rzedna0  0 non-null      object  \n",
      " 18  kg_srednia  0 non-null      object  \n",
      " 19  kg_sredni3  0 non-null      object  \n",
      " 20  kg_id_prof  0 non-null      object  \n",
      " 21  city_id     602 non-null    float64 \n",
      " 22  street_id   602 non-null    float64 \n",
      " 23  address_po  204 non-null    float64 \n",
      " 24  przebieg_o  1033 non-null   object  \n",
      " 25  dlugosc_po  0 non-null      object  \n",
      " 26  wlasnosc    1033 non-null   object  \n",
      " 27  zrodlo_dan  1033 non-null   object  \n",
      " 28  uwagi       41 non-null     object  \n",
      " 29  inspektor   0 non-null      object  \n",
      " 30  kierownik_  0 non-null      object  \n",
      " 31  inwestor    0 non-null      object  \n",
      " 32  wykonawca   0 non-null      object  \n",
      " 33  numer_uzg_  0 non-null      object  \n",
      " 34  data_uzg_p  0 non-null      object  \n",
      " 35  the_geom_l  1033 non-null   float64 \n",
      " 36  miasto      602 non-null    object  \n",
      " 37  ulica       602 non-null    object  \n",
      " 38  nr_domu     204 non-null    object  \n",
      " 39  gmina       1033 non-null   object  \n",
      " 40  dzielnica   0 non-null      object  \n",
      " 41  housing_es  0 non-null      object  \n",
      " 42  district_i  0 non-null      object  \n",
      " 43  osiedle     0 non-null      object  \n",
      " 44  opis_lokal  1033 non-null   object  \n",
      " 45  aglomeracj  0 non-null      object  \n",
      " 46  kerg        0 non-null      object  \n",
      " 47  numer_srod  0 non-null      object  \n",
      " 48  nr_dzialki  1018 non-null   object  \n",
      " 49  data_ostat  0 non-null      object  \n",
      " 50  data_naste  0 non-null      object  \n",
      " 51  uzytkownik  706 non-null    object  \n",
      " 52  data_modyf  706 non-null    object  \n",
      " 53  uzytkowni0  1033 non-null   object  \n",
      " 54  data_utwor  1033 non-null   object  \n",
      " 55  numer       0 non-null      object  \n",
      " 56  automat     1033 non-null   object  \n",
      " 57  istnienie   0 non-null      object  \n",
      " 58  geometry    1033 non-null   geometry\n",
      "dtypes: float64(5), geometry(1), object(53)\n",
      "memory usage: 476.3+ KB\n"
     ]
    }
   ],
   "source": [
    "gis.info()"
   ],
   "metadata": {
    "collapsed": false
   }
  },
  {
   "cell_type": "code",
   "execution_count": 53,
   "outputs": [
    {
     "data": {
      "text/plain": "<Axes: >"
     },
     "execution_count": 53,
     "metadata": {},
     "output_type": "execute_result"
    },
    {
     "data": {
      "text/plain": "<Figure size 640x480 with 1 Axes>",
      "image/png": "[encoded data removed]"
     },
     "metadata": {},
     "output_type": "display_data"
    }
   ],
   "source": [
    "gis.plot()"
   ],
   "metadata": {
    "collapsed": false
   }
  },
  {
   "cell_type": "markdown",
   "source": [
    "Obiecujące"
   ],
   "metadata": {
    "collapsed": false
   }
  },
  {
   "cell_type": "code",
   "execution_count": null,
   "outputs": [],
   "source": [
    "gis.head(10)"
   ],
   "metadata": {
    "collapsed": false,
    "pycharm": {
     "is_executing": true
    }
   }
  },
  {
   "cell_type": "code",
   "execution_count": 55,
   "outputs": [
    {
     "name": "stderr",
     "output_type": "stream",
     "text": [
      "C:\\Users\\jolka\\AppData\\Local\\Temp\\ipykernel_9444\\4091929304.py:4: FutureWarning: Downcasting behavior in `replace` is deprecated and will be removed in a future version. To retain the old behavior, explicitly call `result.infer_objects(copy=False)`. To opt-in to the future behavior, set `pd.set_option('future.no_silent_downcasting', True)`\n",
      "  gis = gis.replace(\"?\", np.nan)\n"
     ]
    }
   ],
   "source": [
    "import numpy as np\n",
    "\n",
    "\n",
    "gis = gis.replace(\"?\", np.nan)"
   ],
   "metadata": {
    "collapsed": false
   }
  },
  {
   "cell_type": "code",
   "execution_count": 56,
   "outputs": [
    {
     "name": "stdout",
     "output_type": "stream",
     "text": [
      "<class 'geopandas.geodataframe.GeoDataFrame'>\n",
      "RangeIndex: 1033 entries, 0 to 1032\n",
      "Data columns (total 59 columns):\n",
      " #   Column      Non-Null Count  Dtype   \n",
      "---  ------      --------------  -----   \n",
      " 0   kg_stan_ek  1033 non-null   object  \n",
      " 1   kg_model    0 non-null      float64 \n",
      " 2   kg_strefa   0 non-null      float64 \n",
      " 3   kg_funkcja  1030 non-null   object  \n",
      " 4   kg_srednic  771 non-null    float64 \n",
      " 5   kg_sredni0  0 non-null      object  \n",
      " 6   kg_sredni1  0 non-null      object  \n",
      " 7   kg_sredni2  0 non-null      float64 \n",
      " 8   kg_materia  41 non-null     object  \n",
      " 9   kg_materi0  0 non-null      float64 \n",
      " 10  kg_rok_bud  0 non-null      object  \n",
      " 11  kg_rok_bu0  0 non-null      float64 \n",
      " 12  kg_chropow  0 non-null      object  \n",
      " 13  kg_wsp_str  0 non-null      object  \n",
      " 14  kg_wsp_rea  0 non-null      object  \n",
      " 15  kg_wsp_re0  0 non-null      object  \n",
      " 16  kg_rzedna_  0 non-null      object  \n",
      " 17  kg_rzedna0  0 non-null      object  \n",
      " 18  kg_srednia  0 non-null      object  \n",
      " 19  kg_sredni3  0 non-null      object  \n",
      " 20  kg_id_prof  0 non-null      object  \n",
      " 21  city_id     602 non-null    float64 \n",
      " 22  street_id   602 non-null    float64 \n",
      " 23  address_po  204 non-null    float64 \n",
      " 24  przebieg_o  0 non-null      float64 \n",
      " 25  dlugosc_po  0 non-null      object  \n",
      " 26  wlasnosc    1033 non-null   object  \n",
      " 27  zrodlo_dan  1033 non-null   object  \n",
      " 28  uwagi       41 non-null     object  \n",
      " 29  inspektor   0 non-null      object  \n",
      " 30  kierownik_  0 non-null      object  \n",
      " 31  inwestor    0 non-null      object  \n",
      " 32  wykonawca   0 non-null      object  \n",
      " 33  numer_uzg_  0 non-null      object  \n",
      " 34  data_uzg_p  0 non-null      object  \n",
      " 35  the_geom_l  1033 non-null   float64 \n",
      " 36  miasto      602 non-null    object  \n",
      " 37  ulica       602 non-null    object  \n",
      " 38  nr_domu     204 non-null    object  \n",
      " 39  gmina       1033 non-null   object  \n",
      " 40  dzielnica   0 non-null      object  \n",
      " 41  housing_es  0 non-null      object  \n",
      " 42  district_i  0 non-null      object  \n",
      " 43  osiedle     0 non-null      object  \n",
      " 44  opis_lokal  1033 non-null   object  \n",
      " 45  aglomeracj  0 non-null      object  \n",
      " 46  kerg        0 non-null      object  \n",
      " 47  numer_srod  0 non-null      object  \n",
      " 48  nr_dzialki  1018 non-null   object  \n",
      " 49  data_ostat  0 non-null      object  \n",
      " 50  data_naste  0 non-null      object  \n",
      " 51  uzytkownik  706 non-null    object  \n",
      " 52  data_modyf  706 non-null    object  \n",
      " 53  uzytkowni0  1033 non-null   object  \n",
      " 54  data_utwor  1033 non-null   object  \n",
      " 55  numer       0 non-null      object  \n",
      " 56  automat     1033 non-null   object  \n",
      " 57  istnienie   0 non-null      object  \n",
      " 58  geometry    1033 non-null   geometry\n",
      "dtypes: float64(11), geometry(1), object(47)\n",
      "memory usage: 476.3+ KB\n"
     ]
    }
   ],
   "source": [
    "gis.info()"
   ],
   "metadata": {
    "collapsed": false
   }
  },
  {
   "cell_type": "code",
   "execution_count": 63,
   "outputs": [
    {
     "data": {
      "text/plain": "   the_geom_l                                           geometry\n0       30.82  LINESTRING (7469576.080 5537306.095, 7469575.9...\n1        1.74  LINESTRING (7469390.320 5536869.095, 7469389.6...\n2       43.71  LINESTRING (7469380.120 5536896.205, 7469382.3...\n3       22.73  LINESTRING (7469019.350 5536008.995, 7469001.6...\n4       10.79  LINESTRING (7469545.580 5536079.125, 7469545.7...\n5       57.60  LINESTRING (7469615.780 5537286.365, 7469614.5...\n6        0.50  LINESTRING (7469572.070 5537286.905, 7469571.9...\n7      233.86  LINESTRING (7469561.340 5537291.005, 7469561.6...\n8      103.21  LINESTRING (7469607.550 5537442.545, 7469609.2...\n9       61.41  LINESTRING (7469560.440 5537292.295, 7469560.6...",
      "text/html": "<div>\n<style scoped>\n    .dataframe tbody tr th:only-of-type {\n        vertical-align: middle;\n    }\n\n    .dataframe tbody tr th {\n        vertical-align: top;\n    }\n\n    .dataframe thead th {\n        text-align: right;\n    }\n</style>\n<table border=\"1\" class=\"dataframe\">\n  <thead>\n    <tr style=\"text-align: right;\">\n      <th></th>\n      <th>the_geom_l</th>\n      <th>geometry</th>\n    </tr>\n  </thead>\n  <tbody>\n    <tr>\n      <th>0</th>\n      <td>30.82</td>\n      <td>LINESTRING (7469576.080 5537306.095, 7469575.9...</td>\n    </tr>\n    <tr>\n      <th>1</th>\n      <td>1.74</td>\n      <td>LINESTRING (7469390.320 5536869.095, 7469389.6...</td>\n    </tr>\n    <tr>\n      <th>2</th>\n      <td>43.71</td>\n      <td>LINESTRING (7469380.120 5536896.205, 7469382.3...</td>\n    </tr>\n    <tr>\n      <th>3</th>\n      <td>22.73</td>\n      <td>LINESTRING (7469019.350 5536008.995, 7469001.6...</td>\n    </tr>\n    <tr>\n      <th>4</th>\n      <td>10.79</td>\n      <td>LINESTRING (7469545.580 5536079.125, 7469545.7...</td>\n    </tr>\n    <tr>\n      <th>5</th>\n      <td>57.60</td>\n      <td>LINESTRING (7469615.780 5537286.365, 7469614.5...</td>\n    </tr>\n    <tr>\n      <th>6</th>\n      <td>0.50</td>\n      <td>LINESTRING (7469572.070 5537286.905, 7469571.9...</td>\n    </tr>\n    <tr>\n      <th>7</th>\n      <td>233.86</td>\n      <td>LINESTRING (7469561.340 5537291.005, 7469561.6...</td>\n    </tr>\n    <tr>\n      <th>8</th>\n      <td>103.21</td>\n      <td>LINESTRING (7469607.550 5537442.545, 7469609.2...</td>\n    </tr>\n    <tr>\n      <th>9</th>\n      <td>61.41</td>\n      <td>LINESTRING (7469560.440 5537292.295, 7469560.6...</td>\n    </tr>\n  </tbody>\n</table>\n</div>"
     },
     "execution_count": 63,
     "metadata": {},
     "output_type": "execute_result"
    }
   ],
   "source": [
    "gis[[\"the_geom_l\", \"geometry\"]].head(10)  #"
   ],
   "metadata": {
    "collapsed": false
   }
  },
  {
   "cell_type": "code",
   "execution_count": 62,
   "outputs": [
    {
     "data": {
      "text/plain": "0.49979996058922127"
     },
     "execution_count": 62,
     "metadata": {},
     "output_type": "execute_result"
    }
   ],
   "source": [
    "np.sqrt((7469572.070 - 7469571.900) ** 2 + (5537286.905 - 5537286.435) ** 2)"
   ],
   "metadata": {
    "collapsed": false
   }
  },
  {
   "cell_type": "code",
   "execution_count": 65,
   "outputs": [],
   "source": [
    "gis[\"length\"] = gis.geometry.apply(lambda x: x.length)  # Length"
   ],
   "metadata": {
    "collapsed": false
   }
  },
  {
   "cell_type": "code",
   "execution_count": 72,
   "outputs": [
    {
     "data": {
      "text/plain": "True"
     },
     "execution_count": 72,
     "metadata": {},
     "output_type": "execute_result"
    }
   ],
   "source": [
    "gis[\n",
    "    (gis[\"length\"] > (gis[\"the_geom_l\"] - 0.01))\n",
    "    & (gis[\"length\"] < (gis[\"the_geom_l\"] + 0.01))\n",
    "].shape == gis.shape"
   ],
   "metadata": {
    "collapsed": false
   }
  },
  {
   "cell_type": "markdown",
   "source": [
    "Can use `the_geom_l` as `Length` or use `geometry` for \"better\" results."
   ],
   "metadata": {
    "collapsed": false
   }
  },
  {
   "cell_type": "code",
   "execution_count": 76,
   "outputs": [
    {
     "data": {
      "text/plain": "kg_srednic\n32.0     241\n40.0     210\n90.0      65\n100.0     65\n110.0     59\n80.0      35\n50.0      27\n63.0      21\n150.0     17\n25.0      15\n160.0     11\n20.0       4\n75.0       1\nName: count, dtype: int64"
     },
     "execution_count": 76,
     "metadata": {},
     "output_type": "execute_result"
    }
   ],
   "source": [
    "gis[\"kg_srednic\"].value_counts()"
   ],
   "metadata": {
    "collapsed": false
   }
  },
  {
   "cell_type": "code",
   "execution_count": 74,
   "outputs": [
    {
     "name": "stdout",
     "output_type": "stream",
     "text": [
      "<class 'pandas.core.series.Series'>\n",
      "RangeIndex: 1033 entries, 0 to 1032\n",
      "Series name: kg_srednic\n",
      "Non-Null Count  Dtype  \n",
      "--------------  -----  \n",
      "771 non-null    float64\n",
      "dtypes: float64(1)\n",
      "memory usage: 8.2 KB\n"
     ]
    }
   ],
   "source": [
    "gis[\"kg_srednic\"].info()"
   ],
   "metadata": {
    "collapsed": false
   }
  },
  {
   "cell_type": "code",
   "execution_count": 79,
   "outputs": [
    {
     "data": {
      "text/plain": "kg_stan_ek\nCzynny          1014\nNieczynny         10\nProjektowany       9\nName: count, dtype: int64"
     },
     "execution_count": 79,
     "metadata": {},
     "output_type": "execute_result"
    }
   ],
   "source": [
    "gis[\"kg_stan_ek\"].value_counts()"
   ],
   "metadata": {
    "collapsed": false
   }
  },
  {
   "cell_type": "code",
   "execution_count": 81,
   "outputs": [
    {
     "data": {
      "text/plain": "kg_funkcja\nPrzyÅÄ\ncze               502\nRozdzielczy               285\nInny                      168\nPrzyÅÄ\ncze hydrantowe     72\nMagistralny                 3\nName: count, dtype: int64"
     },
     "execution_count": 81,
     "metadata": {},
     "output_type": "execute_result"
    }
   ],
   "source": [
    "gis[\"kg_funkcja\"].value_counts()"
   ],
   "metadata": {
    "collapsed": false
   }
  },
  {
   "cell_type": "code",
   "execution_count": null,
   "outputs": [],
   "source": [],
   "metadata": {
    "collapsed": false
   }
  }
 ],
 "metadata": {
  "kernelspec": {
   "display_name": "Python 3",
   "language": "python",
   "name": "python3"
  },
  "language_info": {
   "codemirror_mode": {
    "name": "ipython",
    "version": 2
   },
   "file_extension": ".py",
   "mimetype": "text/x-python",
   "name": "python",
   "nbconvert_exporter": "python",
   "pygments_lexer": "ipython2",
   "version": "2.7.6"
  }
 },
 "nbformat": 4,
 "nbformat_minor": 0
}
