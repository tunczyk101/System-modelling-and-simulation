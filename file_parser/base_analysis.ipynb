{
 "cells": [
  {
   "cell_type": "markdown",
   "source": [
    "# Basic analysis of *\"GIS data\"*\n",
    "\n",
    "Place data in `file_parser/data` directory.\n",
    "\n",
    "What is needed for a model:\n",
    "* Junctions\n",
    "    * **Elevation** - The elevation in feet (meters) above some common reference of the junction. This is a **required** property. Elevation is used only to compute pressure at the junction. It does not affect any other computed quantity.\n",
    "    // * **Base Demand** -The average or nominal demand for water by the main category of consumer at the junction, as measured in the current flow units. A negative value is used to indicate an external source of flow into the junction. If left blank then demand is assumed to be zero.\n",
    "* Pipes\n",
    "    *  **Length** - The actual length of the pipe in feet (meters). This is a **required** property.\n",
    "    * **Diam** - The pipe diameter in inches (mm). This is a **required** property.\n",
    "    * **Roughness** - The roughness coefficient of the pipe. It is unitless for Hazen-Williams or Chezy-Manning roughness and has units of millifeet (mm) for Darcy-Weisbach roughness. This is a **required** property.\n"
   ],
   "metadata": {
    "collapsed": false
   }
  },
  {
   "cell_type": "code",
   "execution_count": 1,
   "metadata": {
    "collapsed": true
   },
   "outputs": [],
   "source": [
    "import pandas as pd\n",
    "import geopandas as gpd"
   ]
  },
  {
   "cell_type": "markdown",
   "source": [
    "# attributestablebrowsercontroller (1)"
   ],
   "metadata": {
    "collapsed": false
   }
  },
  {
   "cell_type": "code",
   "execution_count": 7,
   "outputs": [
    {
     "name": "stderr",
     "output_type": "stream",
     "text": [
      "C:\\Users\\jolka\\OneDrive\\Pulpit\\studia\\sem_8\\MISS\\System-modelling-and-simulation\\venv\\lib\\site-packages\\openpyxl\\styles\\stylesheet.py:226: UserWarning: Workbook contains no default style, apply openpyxl's default\n",
      "  warn(\"Workbook contains no default style, apply openpyxl's default\")\n"
     ]
    }
   ],
   "source": [
    "controller = pd.read_excel(\n",
    "    \"./data/attributestablebrowsercontroller_1.xlsx\", index_col=0\n",
    ")"
   ],
   "metadata": {
    "collapsed": false
   }
  },
  {
   "cell_type": "code",
   "execution_count": null,
   "outputs": [],
   "source": [
    "controller.head()"
   ],
   "metadata": {
    "collapsed": false,
    "pycharm": {
     "is_executing": true
    }
   }
  },
  {
   "cell_type": "code",
   "execution_count": 9,
   "outputs": [
    {
     "name": "stdout",
     "output_type": "stream",
     "text": [
      "<class 'pandas.core.frame.DataFrame'>\n",
      "Index: 1033 entries, 68085 to 95556\n",
      "Data columns (total 35 columns):\n",
      " #   Column                   Non-Null Count  Dtype         \n",
      "---  ------                   --------------  -----         \n",
      " 0   Stan eksploatacji        1033 non-null   object        \n",
      " 1   Funkcja                  1030 non-null   object        \n",
      " 2   Średnica nominalna [mm]  771 non-null    float64       \n",
      " 3   Materiał                 41 non-null     object        \n",
      " 4   Rok budowy               0 non-null      float64       \n",
      " 5   Rzędna początku          0 non-null      float64       \n",
      " 6   Rzędna końca             0 non-null      float64       \n",
      " 7   Miasto                   602 non-null    object        \n",
      " 8   Ulica                    602 non-null    object        \n",
      " 9   Numer domu               204 non-null    object        \n",
      " 10  Przebieg orientacyjny    0 non-null      float64       \n",
      " 11  Długość pomierzona [m]   0 non-null      float64       \n",
      " 12  Własność                 1033 non-null   object        \n",
      " 13  Źródło danych            1033 non-null   object        \n",
      " 14  Uwagi                    41 non-null     object        \n",
      " 15  Inspektor                0 non-null      float64       \n",
      " 16  Kierownik budowy         0 non-null      float64       \n",
      " 17  Inwestor                 0 non-null      float64       \n",
      " 18  Wykonawca                0 non-null      float64       \n",
      " 19  Numer uzg. proj.         0 non-null      float64       \n",
      " 20  Data uzg. proj.          0 non-null      float64       \n",
      " 21  Długość geometrii        1033 non-null   float64       \n",
      " 22  Miasto (rozwinięte)      602 non-null    object        \n",
      " 23  Ulica (rozwinięte)       602 non-null    object        \n",
      " 24  Numer domu (rozwinięte)  204 non-null    object        \n",
      " 25  Gmina                    1033 non-null   object        \n",
      " 26  Opis lokalizacji         1033 non-null   object        \n",
      " 27  Nr środka trwałego       0 non-null      float64       \n",
      " 28  Nr działki               1018 non-null   object        \n",
      " 29  Użytkownik modyfikujący  706 non-null    object        \n",
      " 30  Data modyfikacji         706 non-null    datetime64[ns]\n",
      " 31  Użytkownik tworzący      1033 non-null   object        \n",
      " 32  Data utworzenia          1033 non-null   datetime64[ns]\n",
      " 33  numer                    0 non-null      float64       \n",
      " 34  automat                  1033 non-null   bool          \n",
      "dtypes: bool(1), datetime64[ns](2), float64(15), object(17)\n",
      "memory usage: 283.5+ KB\n"
     ]
    }
   ],
   "source": [
    "controller.info()"
   ],
   "metadata": {
    "collapsed": false
   }
  },
  {
   "cell_type": "markdown",
   "source": [
    "Drop not important columns"
   ],
   "metadata": {
    "collapsed": false
   }
  },
  {
   "cell_type": "code",
   "execution_count": 20,
   "outputs": [],
   "source": [
    "columns_to_drop = [\n",
    "    \"Rok budowy\",\n",
    "    \"Rzędna początku\",\n",
    "    \"Rzędna końca\",\n",
    "    \"Miasto\",\n",
    "    \"Ulica\",\n",
    "    \"Przebieg orientacyjny\",\n",
    "    \"Długość pomierzona [m]\",\n",
    "    \"Własność\",\n",
    "    \"Źródło danych\",\n",
    "    \"Inspektor\",\n",
    "    \"Kierownik budowy\",\n",
    "    \"Inwestor\",\n",
    "    \"Wykonawca\",\n",
    "    \"Numer uzg. proj.\",\n",
    "    \"Data uzg. proj.\",\n",
    "    \"Miasto (rozwinięte)\",\n",
    "    \"Numer domu (rozwinięte)\",\n",
    "    \"Gmina\",\n",
    "    \"Nr środka trwałego\",\n",
    "    \"Użytkownik modyfikujący\",\n",
    "    \"Użytkownik tworzący\",\n",
    "    \"Data utworzenia\",\n",
    "    \"numer\",\n",
    "    \"automat\",\n",
    "]\n",
    "\n",
    "controller = controller.drop(columns=columns_to_drop)"
   ],
   "metadata": {
    "collapsed": false
   }
  },
  {
   "cell_type": "code",
   "execution_count": 22,
   "outputs": [
    {
     "name": "stdout",
     "output_type": "stream",
     "text": [
      "<class 'pandas.core.frame.DataFrame'>\n",
      "Index: 1014 entries, 68085 to 95556\n",
      "Data columns (total 11 columns):\n",
      " #   Column                   Non-Null Count  Dtype         \n",
      "---  ------                   --------------  -----         \n",
      " 0   Stan eksploatacji        1014 non-null   object        \n",
      " 1   Funkcja                  1014 non-null   object        \n",
      " 2   Średnica nominalna [mm]  763 non-null    float64       \n",
      " 3   Materiał                 41 non-null     object        \n",
      " 4   Numer domu               203 non-null    object        \n",
      " 5   Uwagi                    41 non-null     object        \n",
      " 6   Długość geometrii        1014 non-null   float64       \n",
      " 7   Ulica (rozwinięte)       596 non-null    object        \n",
      " 8   Opis lokalizacji         1014 non-null   object        \n",
      " 9   Nr działki               999 non-null    object        \n",
      " 10  Data modyfikacji         692 non-null    datetime64[ns]\n",
      "dtypes: datetime64[ns](1), float64(2), object(8)\n",
      "memory usage: 95.1+ KB\n"
     ]
    }
   ],
   "source": [
    "controller.info()"
   ],
   "metadata": {
    "collapsed": false
   }
  },
  {
   "cell_type": "code",
   "execution_count": null,
   "outputs": [],
   "source": [
    "controller.head()"
   ],
   "metadata": {
    "collapsed": false,
    "pycharm": {
     "is_executing": true
    }
   }
  },
  {
   "cell_type": "code",
   "execution_count": 11,
   "outputs": [
    {
     "data": {
      "text/plain": "Stan eksploatacji\nCzynny          1014\nNieczynny         10\nProjektowany       9\nName: count, dtype: int64"
     },
     "execution_count": 11,
     "metadata": {},
     "output_type": "execute_result"
    }
   ],
   "source": [
    "controller[\"Stan eksploatacji\"].value_counts()"
   ],
   "metadata": {
    "collapsed": false
   }
  },
  {
   "cell_type": "code",
   "execution_count": 12,
   "outputs": [],
   "source": [
    "controller = controller[controller[\"Stan eksploatacji\"] == \"Czynny\"]"
   ],
   "metadata": {
    "collapsed": false
   }
  },
  {
   "cell_type": "code",
   "execution_count": 13,
   "outputs": [
    {
     "data": {
      "text/plain": "Stan eksploatacji\nCzynny    1014\nName: count, dtype: int64"
     },
     "execution_count": 13,
     "metadata": {},
     "output_type": "execute_result"
    }
   ],
   "source": [
    "controller[\"Stan eksploatacji\"].value_counts()"
   ],
   "metadata": {
    "collapsed": false
   }
  },
  {
   "cell_type": "code",
   "execution_count": 24,
   "outputs": [
    {
     "data": {
      "text/plain": "Funkcja\nPrzyłącze               494\nRozdzielczy             281\nInny                    165\nPrzyłącze hydrantowe     71\nMagistralny               3\nName: count, dtype: int64"
     },
     "execution_count": 24,
     "metadata": {},
     "output_type": "execute_result"
    }
   ],
   "source": [
    "controller[\"Funkcja\"].value_counts()"
   ],
   "metadata": {
    "collapsed": false
   }
  },
  {
   "cell_type": "code",
   "execution_count": 25,
   "outputs": [
    {
     "data": {
      "text/plain": "Średnica nominalna [mm]\n32.0     241\n40.0     207\n100.0     65\n90.0      64\n110.0     59\n80.0      35\n50.0      27\n63.0      19\n150.0     17\n25.0      13\n160.0     11\n20.0       4\n75.0       1\nName: count, dtype: int64"
     },
     "execution_count": 25,
     "metadata": {},
     "output_type": "execute_result"
    }
   ],
   "source": [
    "controller[\"Średnica nominalna [mm]\"].value_counts()  # Diam"
   ],
   "metadata": {
    "collapsed": false
   }
  },
  {
   "cell_type": "code",
   "execution_count": 26,
   "outputs": [
    {
     "data": {
      "text/plain": "Materiał\nPVC            19\nBrak danych    13\nPE              9\nName: count, dtype: int64"
     },
     "execution_count": 26,
     "metadata": {},
     "output_type": "execute_result"
    }
   ],
   "source": [
    "controller[\"Materiał\"].value_counts()"
   ],
   "metadata": {
    "collapsed": false
   }
  },
  {
   "cell_type": "code",
   "execution_count": 27,
   "outputs": [
    {
     "data": {
      "text/plain": "Uwagi\nPCV                                                        19\nPE                                                          9\nzmiana średnicy na podstawie map branżowych z 90 na 110     7\nzmiana średnicy na podstawie map branżowych z 110 na 90     2\nbrak                                                        1\ndata pomiaru: 28.02.1997                                    1\n347/03                                                      1\n209/08                                                      1\nName: count, dtype: int64"
     },
     "execution_count": 27,
     "metadata": {},
     "output_type": "execute_result"
    }
   ],
   "source": [
    "controller[\"Uwagi\"].value_counts()  # duplicates"
   ],
   "metadata": {
    "collapsed": false
   }
  },
  {
   "cell_type": "code",
   "execution_count": 28,
   "outputs": [
    {
     "data": {
      "text/plain": "Długość geometrii\n7.67      3\n5.88      3\n2.17      3\n11.16     3\n0.36      3\n         ..\n0.88      1\n129.18    1\n137.76    1\n114.38    1\n42.89     1\nName: count, Length: 943, dtype: int64"
     },
     "execution_count": 28,
     "metadata": {},
     "output_type": "execute_result"
    }
   ],
   "source": [
    "controller[\"Długość geometrii\"].value_counts()  # what is this?"
   ],
   "metadata": {
    "collapsed": false
   }
  },
  {
   "cell_type": "code",
   "execution_count": 29,
   "outputs": [
    {
     "data": {
      "text/plain": "Opis lokalizacji\npodziemny    1014\nName: count, dtype: int64"
     },
     "execution_count": 29,
     "metadata": {},
     "output_type": "execute_result"
    }
   ],
   "source": [
    "controller[\"Opis lokalizacji\"].value_counts()  # ..."
   ],
   "metadata": {
    "collapsed": false
   }
  },
  {
   "cell_type": "markdown",
   "source": [
    "# attributestablebrowsercontroller"
   ],
   "metadata": {
    "collapsed": false
   }
  },
  {
   "cell_type": "code",
   "execution_count": 33,
   "outputs": [
    {
     "name": "stderr",
     "output_type": "stream",
     "text": [
      "C:\\Users\\jolka\\OneDrive\\Pulpit\\studia\\sem_8\\MISS\\System-modelling-and-simulation\\venv\\lib\\site-packages\\openpyxl\\styles\\stylesheet.py:226: UserWarning: Workbook contains no default style, apply openpyxl's default\n",
      "  warn(\"Workbook contains no default style, apply openpyxl's default\")\n"
     ]
    }
   ],
   "source": [
    "controller = pd.read_excel(\"./data/attributestablebrowsercontroller.xlsx\")"
   ],
   "metadata": {
    "collapsed": false
   }
  },
  {
   "cell_type": "code",
   "execution_count": 34,
   "outputs": [
    {
     "name": "stdout",
     "output_type": "stream",
     "text": [
      "<class 'pandas.core.frame.DataFrame'>\n",
      "RangeIndex: 797 entries, 0 to 796\n",
      "Data columns (total 28 columns):\n",
      " #   Column                Non-Null Count  Dtype         \n",
      "---  ------                --------------  -----         \n",
      " 0   address_point_id      797 non-null    object        \n",
      " 1   id_address_point_map  797 non-null    int64         \n",
      " 2   id_msc_zamontu        797 non-null    int64         \n",
      " 3   wodomierz             797 non-null    bool          \n",
      " 4   id_punktu             797 non-null    int64         \n",
      " 5   id_zamontu            797 non-null    int64         \n",
      " 6   id_wodomierza         797 non-null    int64         \n",
      " 7   adres                 797 non-null    object        \n",
      " 8   Średnica              786 non-null    float64       \n",
      " 9   Producent             786 non-null    object        \n",
      " 10  Nr fabryczny          797 non-null    object        \n",
      " 11  Główny                143 non-null    float64       \n",
      " 12  srednia_dobowa        712 non-null    float64       \n",
      " 13  Data zamontu          797 non-null    datetime64[ns]\n",
      " 14  Data wymontu          363 non-null    datetime64[ns]\n",
      " 15  Data legalizacji      617 non-null    datetime64[ns]\n",
      " 16  odbiorca              797 non-null    object        \n",
      " 17  id_odbiorcy           797 non-null    int64         \n",
      " 18  tel                   555 non-null    object        \n",
      " 19  Numer umowy           787 non-null    object        \n",
      " 20  Data zawarcia         797 non-null    datetime64[ns]\n",
      " 21  Data wygaśnięcia      797 non-null    object        \n",
      " 22  Typ umowy             260 non-null    object        \n",
      " 23  Id wew.               797 non-null    int64         \n",
      " 24  nr_odbiorcy           797 non-null    int64         \n",
      " 25  email                 241 non-null    object        \n",
      " 26  nr_dzialki            781 non-null    object        \n",
      " 27  aktywny               797 non-null    bool          \n",
      "dtypes: bool(2), datetime64[ns](4), float64(3), int64(8), object(11)\n",
      "memory usage: 163.6+ KB\n"
     ]
    }
   ],
   "source": [
    "controller.info()"
   ],
   "metadata": {
    "collapsed": false
   }
  },
  {
   "cell_type": "code",
   "execution_count": 35,
   "outputs": [
    {
     "data": {
      "text/plain": "  address_point_id  id_address_point_map  id_msc_zamontu  wodomierz  \\\n0               24                 16481           54735       True   \n1              115                 16390           54137       True   \n2              115                 16390           54137       True   \n3               47                 16149           63305       True   \n4               47                 16149           63305       True   \n\n   id_punktu  id_zamontu  id_wodomierza                          adres  \\\n0     223474       28326              0             Jasień, Zielna, 24   \n1     222934       27606          27726         Jasień, Wiedeńska, 115   \n2     222934       27605          16793         Jasień, Wiedeńska, 115   \n3     219811       23393          25139  Jasień, Ks. Mazurkiewicza, 47   \n4     219811       23392           3332  Jasień, Ks. Mazurkiewicza, 47   \n\n   Średnica        Producent  ...        tel  Numer umowy  Data zawarcia  \\\n0       NaN              NaN  ...        NaN       123474     2019-01-07   \n1      20.0           SENSUS  ...        NaN       122934     2020-09-28   \n2      20.0  POWOGAZ, METRON  ...        NaN       122934     2019-01-11   \n3      20.0           SENSUS  ...  604254690       119811     2019-09-03   \n4      20.0  POWOGAZ, METRON  ...  604254690       119811     2019-01-09   \n\n      Data wygaśnięcia Typ umowy Id wew. nr_odbiorcy  email nr_dzialki aktywny  \n0  4000-02-01 00:00:00       NaN   19588      223474    NaN       1407   False  \n1  4000-02-01 00:00:00       NaN   19589      222934    NaN     1826/1    True  \n2  2020-09-28 00:00:00       NaN   19589      222934    NaN     1826/1   False  \n3  4000-02-01 00:00:00       NaN   19740      219811    NaN     1127/6    True  \n4  2019-09-03 00:00:00       NaN   19740      219811    NaN     1127/6   False  \n\n[5 rows x 28 columns]",
      "text/html": "<div>\n<style scoped>\n    .dataframe tbody tr th:only-of-type {\n        vertical-align: middle;\n    }\n\n    .dataframe tbody tr th {\n        vertical-align: top;\n    }\n\n    .dataframe thead th {\n        text-align: right;\n    }\n</style>\n<table border=\"1\" class=\"dataframe\">\n  <thead>\n    <tr style=\"text-align: right;\">\n      <th></th>\n      <th>address_point_id</th>\n      <th>id_address_point_map</th>\n      <th>id_msc_zamontu</th>\n      <th>wodomierz</th>\n      <th>id_punktu</th>\n      <th>id_zamontu</th>\n      <th>id_wodomierza</th>\n      <th>adres</th>\n      <th>Średnica</th>\n      <th>Producent</th>\n      <th>...</th>\n      <th>tel</th>\n      <th>Numer umowy</th>\n      <th>Data zawarcia</th>\n      <th>Data wygaśnięcia</th>\n      <th>Typ umowy</th>\n      <th>Id wew.</th>\n      <th>nr_odbiorcy</th>\n      <th>email</th>\n      <th>nr_dzialki</th>\n      <th>aktywny</th>\n    </tr>\n  </thead>\n  <tbody>\n    <tr>\n      <th>0</th>\n      <td>24</td>\n      <td>16481</td>\n      <td>54735</td>\n      <td>True</td>\n      <td>223474</td>\n      <td>28326</td>\n      <td>0</td>\n      <td>Jasień, Zielna, 24</td>\n      <td>NaN</td>\n      <td>NaN</td>\n      <td>...</td>\n      <td>NaN</td>\n      <td>123474</td>\n      <td>2019-01-07</td>\n      <td>4000-02-01 00:00:00</td>\n      <td>NaN</td>\n      <td>19588</td>\n      <td>223474</td>\n      <td>NaN</td>\n      <td>1407</td>\n      <td>False</td>\n    </tr>\n    <tr>\n      <th>1</th>\n      <td>115</td>\n      <td>16390</td>\n      <td>54137</td>\n      <td>True</td>\n      <td>222934</td>\n      <td>27606</td>\n      <td>27726</td>\n      <td>Jasień, Wiedeńska, 115</td>\n      <td>20.0</td>\n      <td>SENSUS</td>\n      <td>...</td>\n      <td>NaN</td>\n      <td>122934</td>\n      <td>2020-09-28</td>\n      <td>4000-02-01 00:00:00</td>\n      <td>NaN</td>\n      <td>19589</td>\n      <td>222934</td>\n      <td>NaN</td>\n      <td>1826/1</td>\n      <td>True</td>\n    </tr>\n    <tr>\n      <th>2</th>\n      <td>115</td>\n      <td>16390</td>\n      <td>54137</td>\n      <td>True</td>\n      <td>222934</td>\n      <td>27605</td>\n      <td>16793</td>\n      <td>Jasień, Wiedeńska, 115</td>\n      <td>20.0</td>\n      <td>POWOGAZ, METRON</td>\n      <td>...</td>\n      <td>NaN</td>\n      <td>122934</td>\n      <td>2019-01-11</td>\n      <td>2020-09-28 00:00:00</td>\n      <td>NaN</td>\n      <td>19589</td>\n      <td>222934</td>\n      <td>NaN</td>\n      <td>1826/1</td>\n      <td>False</td>\n    </tr>\n    <tr>\n      <th>3</th>\n      <td>47</td>\n      <td>16149</td>\n      <td>63305</td>\n      <td>True</td>\n      <td>219811</td>\n      <td>23393</td>\n      <td>25139</td>\n      <td>Jasień, Ks. Mazurkiewicza, 47</td>\n      <td>20.0</td>\n      <td>SENSUS</td>\n      <td>...</td>\n      <td>604254690</td>\n      <td>119811</td>\n      <td>2019-09-03</td>\n      <td>4000-02-01 00:00:00</td>\n      <td>NaN</td>\n      <td>19740</td>\n      <td>219811</td>\n      <td>NaN</td>\n      <td>1127/6</td>\n      <td>True</td>\n    </tr>\n    <tr>\n      <th>4</th>\n      <td>47</td>\n      <td>16149</td>\n      <td>63305</td>\n      <td>True</td>\n      <td>219811</td>\n      <td>23392</td>\n      <td>3332</td>\n      <td>Jasień, Ks. Mazurkiewicza, 47</td>\n      <td>20.0</td>\n      <td>POWOGAZ, METRON</td>\n      <td>...</td>\n      <td>604254690</td>\n      <td>119811</td>\n      <td>2019-01-09</td>\n      <td>2019-09-03 00:00:00</td>\n      <td>NaN</td>\n      <td>19740</td>\n      <td>219811</td>\n      <td>NaN</td>\n      <td>1127/6</td>\n      <td>False</td>\n    </tr>\n  </tbody>\n</table>\n<p>5 rows × 28 columns</p>\n</div>"
     },
     "execution_count": 35,
     "metadata": {},
     "output_type": "execute_result"
    }
   ],
   "source": [
    "controller.head()"
   ],
   "metadata": {
    "collapsed": false
   }
  },
  {
   "cell_type": "code",
   "execution_count": 36,
   "outputs": [
    {
     "data": {
      "text/plain": "wodomierz\nTrue    797\nName: count, dtype: int64"
     },
     "execution_count": 36,
     "metadata": {},
     "output_type": "execute_result"
    }
   ],
   "source": [
    "controller[\"wodomierz\"].value_counts()"
   ],
   "metadata": {
    "collapsed": false
   }
  },
  {
   "cell_type": "markdown",
   "source": [
    "Dane do kalibracji.\n",
    "Problem: brak adresu w przypadku popszedniej tabeli. Możliwy analogiczny problem w przypadku innych plików."
   ],
   "metadata": {
    "collapsed": false
   }
  },
  {
   "cell_type": "code",
   "execution_count": null,
   "outputs": [],
   "source": [],
   "metadata": {
    "collapsed": false
   }
  }
 ],
 "metadata": {
  "kernelspec": {
   "display_name": "Python 3",
   "language": "python",
   "name": "python3"
  },
  "language_info": {
   "codemirror_mode": {
    "name": "ipython",
    "version": 2
   },
   "file_extension": ".py",
   "mimetype": "text/x-python",
   "name": "python",
   "nbconvert_exporter": "python",
   "pygments_lexer": "ipython2",
   "version": "2.7.6"
  }
 },
 "nbformat": 4,
 "nbformat_minor": 0
}
