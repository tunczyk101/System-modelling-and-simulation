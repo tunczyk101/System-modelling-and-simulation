{
 "cells": [
  {
   "cell_type": "markdown",
   "source": [
    "# Extract results from output file"
   ],
   "metadata": {
    "collapsed": false
   }
  },
  {
   "cell_type": "code",
   "execution_count": 28,
   "metadata": {
    "collapsed": true
   },
   "outputs": [],
   "source": [
    "nodes = {}\n",
    "links = {}\n",
    "\n",
    "with open(\"../../epanet_model/output.txt\") as output_file:\n",
    "    lines = output_file.readlines()\n",
    "    i = 0\n",
    "    i_prew = -1\n",
    "    while i < len(lines):\n",
    "        line = lines[i].split()\n",
    "        if i == i_prew:\n",
    "            print(i, i_prew)\n",
    "        i_prew = i\n",
    "        if len(line) > 0:\n",
    "            match line[0]:\n",
    "                case \"Node\":\n",
    "                    # get hour\n",
    "                    nodes[line[3]] = {}\n",
    "                    i += 5\n",
    "                    node_line = lines[i].split()\n",
    "                    while len(node_line) > 0:\n",
    "                        # for each id collect pressure\n",
    "                        nodes[line[3]][node_line[0]] = node_line[4]\n",
    "                        i += 1\n",
    "                        node_line = lines[i].split()\n",
    "                    continue\n",
    "                case \"Link\":\n",
    "                    # get hour\n",
    "                    links[line[3]] = {}\n",
    "                    i += 5\n",
    "                    link_line = lines[i].split()\n",
    "                    while len(link_line) > 0:\n",
    "                        # for each id collect flow\n",
    "                        links[line[3]][link_line[0]] = link_line[1]\n",
    "                        i += 1\n",
    "                        link_line = lines[i].split()\n",
    "                    continue\n",
    "\n",
    "        i += 1"
   ]
  },
  {
   "cell_type": "code",
   "execution_count": 29,
   "outputs": [
    {
     "data": {
      "text/plain": "{'0:00:00': {'RED1': '39.10'},\n '1:00:00': {'RED1': '39.00'},\n '2:00:00': {'RED1': '39.00'},\n '3:00:00': {'RED1': '38.90'},\n '4:00:00': {'RED1': '38.90'},\n '5:00:00': {'RED1': '38.90'},\n '6:00:00': {'RED1': '38.90'},\n '7:00:00': {'RED1': '38.90'},\n '8:00:00': {'RED1': '39.00'},\n '9:00:00': {'RED1': '39.10'},\n '10:00:00': {'RED1': '39.10'},\n '11:00:00': {'RED1': '39.10'},\n '12:00:00': {'RED1': '39.10'},\n '13:00:00': {'RED1': '39.10'},\n '14:00:00': {'RED1': '39.10'},\n '15:00:00': {'RED1': '39.10'},\n '16:00:00': {'RED1': '39.10'},\n '17:00:00': {'RED1': '39.10'},\n '18:00:00': {'RED1': '39.10'},\n '19:00:00': {'RED1': '39.10'},\n '20:00:00': {'RED1': '39.10'},\n '21:00:00': {'RED1': '39.10'},\n '22:00:00': {'RED1': '39.10'},\n '23:00:00': {'RED1': '39.10'},\n '24:00:00': {'RED1': '39.00'}}"
     },
     "execution_count": 29,
     "metadata": {},
     "output_type": "execute_result"
    }
   ],
   "source": [
    "nodes"
   ],
   "metadata": {
    "collapsed": false
   }
  },
  {
   "cell_type": "code",
   "execution_count": 30,
   "outputs": [
    {
     "data": {
      "text/plain": "{'0:00:00': {'p159': '0.72'},\n '1:00:00': {'p159': '0.69'},\n '2:00:00': {'p159': '0.68'},\n '3:00:00': {'p159': '0.68'},\n '4:00:00': {'p159': '0.69'},\n '5:00:00': {'p159': '0.73'},\n '6:00:00': {'p159': '0.80'},\n '7:00:00': {'p159': '0.89'},\n '8:00:00': {'p159': '0.92'},\n '9:00:00': {'p159': '0.94'},\n '10:00:00': {'p159': '0.93'},\n '11:00:00': {'p159': '0.92'},\n '12:00:00': {'p159': '0.92'},\n '13:00:00': {'p159': '0.90'},\n '14:00:00': {'p159': '0.89'},\n '15:00:00': {'p159': '0.87'},\n '16:00:00': {'p159': '0.87'},\n '17:00:00': {'p159': '0.87'},\n '18:00:00': {'p159': '0.87'},\n '19:00:00': {'p159': '0.92'},\n '20:00:00': {'p159': '0.92'},\n '21:00:00': {'p159': '0.89'},\n '22:00:00': {'p159': '0.84'},\n '23:00:00': {'p159': '0.76'},\n '24:00:00': {'p159': '0.72'}}"
     },
     "execution_count": 30,
     "metadata": {},
     "output_type": "execute_result"
    }
   ],
   "source": [
    "links"
   ],
   "metadata": {
    "collapsed": false
   }
  },
  {
   "cell_type": "code",
   "execution_count": null,
   "outputs": [],
   "source": [],
   "metadata": {
    "collapsed": false
   }
  }
 ],
 "metadata": {
  "kernelspec": {
   "display_name": "Python 3",
   "language": "python",
   "name": "python3"
  },
  "language_info": {
   "codemirror_mode": {
    "name": "ipython",
    "version": 2
   },
   "file_extension": ".py",
   "mimetype": "text/x-python",
   "name": "python",
   "nbconvert_exporter": "python",
   "pygments_lexer": "ipython2",
   "version": "2.7.6"
  }
 },
 "nbformat": 4,
 "nbformat_minor": 0
}
