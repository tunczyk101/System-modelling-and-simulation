{
 "cells": [
  {
   "cell_type": "code",
   "execution_count": 1,
   "metadata": {},
   "outputs": [],
   "source": [
    "import numpy as np"
   ]
  },
  {
   "cell_type": "markdown",
   "metadata": {},
   "source": [
    "#### MAE - Mean Absolute Error"
   ]
  },
  {
   "cell_type": "code",
   "execution_count": 2,
   "metadata": {},
   "outputs": [],
   "source": [
    "def mean_absolute_error(y_true, y_pred):\n",
    "    \"\"\"\n",
    "    Parameters:\n",
    "    y_true -- real values\n",
    "    y_pred -- predicted values\n",
    "    \"\"\"\n",
    "    mae = np.mean(np.abs(y_true - y_pred))\n",
    "    return mae"
   ]
  },
  {
   "cell_type": "markdown",
   "metadata": {},
   "source": [
    "#### RMSE - Root Mean Squared Error"
   ]
  },
  {
   "cell_type": "code",
   "execution_count": 3,
   "metadata": {},
   "outputs": [],
   "source": [
    "def root_mean_squared_error(y_true, y_pred):\n",
    "    \"\"\"\n",
    "    Parameters:\n",
    "    y_true -- real values\n",
    "    y_pred -- predicted values\n",
    "    \"\"\"\n",
    "    rmse = np.sqrt(np.mean((y_true - y_pred) ** 2))\n",
    "    return rmse"
   ]
  },
  {
   "cell_type": "markdown",
   "metadata": {},
   "source": [
    "#### MSE - Mean Squared Error"
   ]
  },
  {
   "cell_type": "code",
   "execution_count": null,
   "metadata": {},
   "outputs": [],
   "source": [
    "def mean_squared_error(y_true, y_pred):\n",
    "    \"\"\"\n",
    "    Parameters:\n",
    "    y_true -- real values\n",
    "    y_pred -- predicted values\n",
    "    \"\"\"\n",
    "    mse = np.mean((y_true - y_pred) ** 2)\n",
    "    return mse"
   ]
  },
  {
   "cell_type": "code",
   "execution_count": 10,
   "metadata": {},
   "outputs": [],
   "source": [
    "import numpy as np\n",
    "\n",
    "def calculate_error(*args, metric='mae'):\n",
    "    \"\"\"\n",
    "    Parameters:\n",
    "    true_val -- real values\n",
    "    *args -- predicted values\n",
    "    metric -- name of metric ('mae', 'rmse' lub 'mse')\n",
    "    \"\"\"\n",
    "    true_val = np.array([1,2,3,4,5,6])\n",
    "    \n",
    "    if metric == 'mae':\n",
    "        error = np.mean(np.abs(true_val - args))\n",
    "    elif metric == 'rmse':\n",
    "        error = np.sqrt(np.mean((true_val - args) ** 2))\n",
    "    elif metric == 'mse':\n",
    "        error = np.mean((true_val - args) ** 2)\n",
    "    else:\n",
    "        raise ValueError(\"Unknown metric. Available metrics: 'mae', 'rmse', 'mse'.\")\n",
    "    \n",
    "    return error\n"
   ]
  },
  {
   "cell_type": "code",
   "execution_count": 11,
   "metadata": {},
   "outputs": [
    {
     "name": "stdout",
     "output_type": "stream",
     "text": [
      "MAE: 1.5833333333333333\n",
      "RMSE: 1.6457014715109584\n",
      "MSE: 2.7083333333333335\n"
     ]
    }
   ],
   "source": [
    "\n",
    "predicted_val = np.array([2.5, 0.0, 2,2,4, 8])\n",
    "\n",
    "print(\"MAE:\", calculate_error( *predicted_val, metric='mae'))\n",
    "print(\"RMSE:\", calculate_error(*predicted_val, metric='rmse'))\n",
    "print(\"MSE:\", calculate_error( *predicted_val, metric='mse'))\n"
   ]
  }
 ],
 "metadata": {
  "kernelspec": {
   "display_name": "Python 3",
   "language": "python",
   "name": "python3"
  },
  "language_info": {
   "codemirror_mode": {
    "name": "ipython",
    "version": 3
   },
   "file_extension": ".py",
   "mimetype": "text/x-python",
   "name": "python",
   "nbconvert_exporter": "python",
   "pygments_lexer": "ipython3",
   "version": "3.12.0"
  }
 },
 "nbformat": 4,
 "nbformat_minor": 2
}
