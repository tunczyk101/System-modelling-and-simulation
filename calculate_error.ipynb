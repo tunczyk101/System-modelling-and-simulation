{
 "cells": [
  {
   "cell_type": "code",
   "execution_count": 1,
   "metadata": {},
   "outputs": [],
   "source": [
    "import numpy as np"
   ]
  },
  {
   "cell_type": "markdown",
   "metadata": {},
   "source": [
    "#### MAE - Mean Absolute Error"
   ]
  },
  {
   "cell_type": "code",
   "execution_count": 9,
   "metadata": {},
   "outputs": [],
   "source": [
    "def mean_absolute_error(y_true, y_pred):\n",
    "    \"\"\"\n",
    "    Calculates the mean absolute error (MAE) between the actual y_true values and the predicted y_pred values.\n",
    "    :param y_true: real values\n",
    "    :param y_pred: predicted values\n",
    "    :return: mean absolute error\n",
    "    \"\"\"\n",
    "    mae = np.mean(np.abs(y_true - y_pred))\n",
    "    return mae"
   ]
  },
  {
   "cell_type": "markdown",
   "metadata": {},
   "source": [
    "#### RMSE - Root Mean Squared Error"
   ]
  },
  {
   "cell_type": "code",
   "execution_count": 10,
   "metadata": {},
   "outputs": [],
   "source": [
    "def root_mean_squared_error(y_true, y_pred):\n",
    "    \"\"\"\n",
    "    Calculates the root mean square error (RMSE) between the actual y_true values and the predicted y_pred values.\n",
    "    :param y_true: real values\n",
    "    :param y_pred: predicted values\n",
    "    :return: rmse - root mean squared error\n",
    "    \"\"\"\n",
    "    rmse = np.sqrt(mean_absolute_error(y_true,y_pred))\n",
    "    return rmse"
   ]
  },
  {
   "cell_type": "markdown",
   "metadata": {},
   "source": [
    "#### MSE - Mean Squared Error"
   ]
  },
  {
   "cell_type": "code",
   "execution_count": 11,
   "metadata": {},
   "outputs": [],
   "source": [
    "def mean_squared_error(y_true, y_pred):\n",
    "    \"\"\"\n",
    "    Calculates the mean square error (MSE) between the actual\n",
    "    values of y_true and the predicted values of y_pred.\n",
    "    :param y_true: real values\n",
    "    :param y_pred: predicted values\n",
    "    \n",
    "    :return: mse - mean square error\n",
    "    \"\"\"\n",
    "    mse = np.mean((y_true - y_pred) ** 2)\n",
    "    return mse"
   ]
  },
  {
   "cell_type": "code",
   "execution_count": 17,
   "metadata": {},
   "outputs": [],
   "source": [
    "def calculate_error(args, metric='mae'):\n",
    "    \"\"\"\n",
    "    Calculates the selected error metric from the actual true_values \n",
    "    and predicted args values.\n",
    "    :param *args: predicted values\n",
    "    :param metric: name of the metric ('mae', 'rmse' or 'mse')\n",
    "    :return: error -- the value of the error metric\n",
    "    \"\"\"\n",
    "    true_val = np.array([1,2,3,4,5,6])\n",
    "    \n",
    "    if metric == 'mae':\n",
    "        error = mean_absolute_error(true_val,args)\n",
    "    elif metric == 'rmse':\n",
    "        error =  root_mean_squared_error(true_val,args)\n",
    "    elif metric == 'mse':\n",
    "        error = mean_squared_error(true_val,args)\n",
    "    else:\n",
    "        raise ValueError(\"Unknown metric. Available metrics: 'mae', 'rmse', 'mse'.\")\n",
    "    \n",
    "    return error\n"
   ]
  },
  {
   "cell_type": "markdown",
   "metadata": {},
   "source": [
    "#### Example of use"
   ]
  },
  {
   "cell_type": "code",
   "execution_count": 18,
   "metadata": {},
   "outputs": [
    {
     "name": "stdout",
     "output_type": "stream",
     "text": [
      "MAE: 0.6666666666666666\n",
      "RMSE: 0.816496580927726\n",
      "MSE: 0.9166666666666666\n"
     ]
    }
   ],
   "source": [
    "\n",
    "predicted_val = np.array([1.5, 2.0, 2.5,4,4, 8])\n",
    "\n",
    "print(\"MAE:\", calculate_error(predicted_val, metric='mae'))\n",
    "print(\"RMSE:\", calculate_error(predicted_val, metric='rmse'))\n",
    "print(\"MSE:\", calculate_error(predicted_val, metric='mse'))\n"
   ]
  }
 ],
 "metadata": {
  "kernelspec": {
   "display_name": "Python 3",
   "language": "python",
   "name": "python3"
  },
  "language_info": {
   "codemirror_mode": {
    "name": "ipython",
    "version": 3
   },
   "file_extension": ".py",
   "mimetype": "text/x-python",
   "name": "python",
   "nbconvert_exporter": "python",
   "pygments_lexer": "ipython3",
   "version": "3.12.0"
  }
 },
 "nbformat": 4,
 "nbformat_minor": 2
}
