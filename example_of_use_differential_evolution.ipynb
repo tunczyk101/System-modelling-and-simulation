{
 "cells": [
  {
   "cell_type": "markdown",
   "metadata": {},
   "source": [
    "#### Example of use function - diferential evolution"
   ]
  },
  {
   "cell_type": "code",
   "execution_count": 1,
   "metadata": {},
   "outputs": [
    {
     "name": "stdout",
     "output_type": "stream",
     "text": [
      "MAE: 0.4166666666666667\n",
      "RMSE: 0.8416254115301732\n",
      "MSE: 0.7083333333333334\n"
     ]
    }
   ],
   "source": [
    "from scipy.optimize import differential_evolution\n",
    "import numpy as np\n",
    "from calculate_error import calculate_error"
   ]
  },
  {
   "cell_type": "markdown",
   "metadata": {},
   "source": [
    "##### example parameters"
   ]
  },
  {
   "cell_type": "code",
   "execution_count": 2,
   "metadata": {},
   "outputs": [],
   "source": [
    "bounds = [[-1, 2], [-1, 3], [0, 5], [1, 6], [-1, 6], [1, 8]]  # example bounds\n",
    "mutation = 0.6  # example mutation parameter\n",
    "recombination = 0.4  # example recombination parameter"
   ]
  },
  {
   "cell_type": "code",
   "execution_count": 3,
   "metadata": {},
   "outputs": [],
   "source": [
    "result = differential_evolution(\n",
    "    calculate_error, bounds, mutation=mutation, recombination=recombination\n",
    ")"
   ]
  },
  {
   "cell_type": "code",
   "execution_count": 4,
   "metadata": {},
   "outputs": [
    {
     "name": "stdout",
     "output_type": "stream",
     "text": [
      "             message: Optimization terminated successfully.\n",
      "             success: True\n",
      "                 fun: 1.850371707708594e-17\n",
      "                   x: [ 1.000e+00  2.000e+00  3.000e+00  4.000e+00\n",
      "                        5.000e+00  6.000e+00]\n",
      "                 nit: 219\n",
      "                nfev: 19933\n",
      "          population: [[ 1.000e+00  2.000e+00 ...  5.000e+00  6.000e+00]\n",
      "                       [ 1.000e+00  2.000e+00 ...  5.000e+00  6.000e+00]\n",
      "                       ...\n",
      "                       [ 1.000e+00  2.000e+00 ...  5.000e+00  6.000e+00]\n",
      "                       [ 1.000e+00  2.000e+00 ...  5.000e+00  6.000e+00]]\n",
      " population_energies: [ 1.850e-17  1.850e-17 ...  1.850e-17  1.850e-17]\n"
     ]
    }
   ],
   "source": [
    "print(result)"
   ]
  },
  {
   "cell_type": "markdown",
   "metadata": {},
   "source": [
    "##### best predicted values"
   ]
  },
  {
   "cell_type": "code",
   "execution_count": 5,
   "metadata": {},
   "outputs": [
    {
     "name": "stdout",
     "output_type": "stream",
     "text": [
      "[1. 2. 3. 4. 5. 6.]\n"
     ]
    }
   ],
   "source": [
    "best_predicted_val = result.x\n",
    "print(best_predicted_val)"
   ]
  },
  {
   "cell_type": "markdown",
   "metadata": {},
   "source": [
    "##### value of the minimum target function"
   ]
  },
  {
   "cell_type": "code",
   "execution_count": 6,
   "metadata": {},
   "outputs": [
    {
     "name": "stdout",
     "output_type": "stream",
     "text": [
      "1.850371707708594e-17\n"
     ]
    }
   ],
   "source": [
    "best_error = result.fun\n",
    "print(best_error)"
   ]
  }
 ],
 "metadata": {
  "kernelspec": {
   "display_name": "Python 3",
   "language": "python",
   "name": "python3"
  },
  "language_info": {
   "codemirror_mode": {
    "name": "ipython",
    "version": 3
   },
   "file_extension": ".py",
   "mimetype": "text/x-python",
   "name": "python",
   "nbconvert_exporter": "python",
   "pygments_lexer": "ipython3",
   "version": "3.12.0"
  }
 },
 "nbformat": 4,
 "nbformat_minor": 2
}
